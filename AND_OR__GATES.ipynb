{
  "nbformat": 4,
  "nbformat_minor": 0,
  "metadata": {
    "colab": {
      "provenance": [],
      "authorship_tag": "ABX9TyPi5zUbM2e2Z/Ewbv5WBYvO",
      "include_colab_link": true
    },
    "kernelspec": {
      "name": "python3",
      "display_name": "Python 3"
    },
    "language_info": {
      "name": "python"
    }
  },
  "cells": [
    {
      "cell_type": "markdown",
      "metadata": {
        "id": "view-in-github",
        "colab_type": "text"
      },
      "source": [
        "<a href=\"https://colab.research.google.com/github/21PA1A6132/3-2_DL_LAB/blob/main/AND_OR__GATES.ipynb\" target=\"_parent\"><img src=\"https://colab.research.google.com/assets/colab-badge.svg\" alt=\"Open In Colab\"/></a>"
      ]
    },
    {
      "cell_type": "code",
      "execution_count": 34,
      "metadata": {
        "id": "FV_hQI3YSkjl"
      },
      "outputs": [],
      "source": [
        "import numpy as np\n",
        "import random\n",
        "import sys\n",
        ""
      ]
    },
    {
      "cell_type": "code",
      "source": [
        "and_gate = [\n",
        "# [(inputs), expected output]\n",
        "    [(1, 1), 1],\n",
        "    [(1, -1), -1],\n",
        "    [(-1, 1), -1],\n",
        "    [(-1, -1), -1]\n",
        "]\n",
        "\n",
        "or_gate = [\n",
        "    [(1, 1), 1],\n",
        "    [(1, -1), 1],\n",
        "    [(-1, 1), 1],\n",
        "    [(-1, -1), -1]\n",
        "]\n",
        "\n"
      ],
      "metadata": {
        "id": "ZBtD8jAfUeyK"
      },
      "execution_count": 35,
      "outputs": []
    },
    {
      "cell_type": "code",
      "source": [
        "def activation_function(x):\n",
        "    if x >= 0:\n",
        "        return 1\n",
        "    elif x < 0:\n",
        "        return -1"
      ],
      "metadata": {
        "id": "gD2Hth6SVPcm"
      },
      "execution_count": 36,
      "outputs": []
    },
    {
      "cell_type": "code",
      "source": [
        "def run_perceptron(gate):\n",
        "    bias = (1,) # the bias is always one\n",
        "    learning_constant = 0.1\n",
        "    n = 100 # how many times the machine learns\n",
        "\n",
        "    weights = []\n",
        "\n",
        "    # initialize with 3 random weights between -1 and 1, one for each input and one for the bias\n",
        "    for i in range(3):\n",
        "        weights.append(random.uniform(-1, 1))\n",
        "    for i in range(n):\n",
        "        inputs, expected_output = random.choice(gate)\n",
        "        inputs = inputs + bias # add the bias here\n",
        "        weighted_sum = np.dot(inputs, weights)\n",
        "        guess = activation_function(weighted_sum) # find the sign of the weighted sum\n",
        "        error = expected_output - guess\n",
        "        weights += learning_constant * error * np.asarray(inputs) # change the weights to include the error times input, won't change if there's no error\n",
        "\n",
        "    inputs, expected_output = random.choice(gate)\n",
        "    print(\"inputs: \" + str(inputs))\n",
        "    inputs = inputs + bias\n",
        "    weighted_sum = np.dot(inputs, weights)\n",
        "    print(\"weighted sum: \" + str(weighted_sum))\n",
        "    print(\"correct answer: \" + str(expected_output))\n",
        "    print(\"perceptron guess: \" + str(activation_function(weighted_sum)) + '\\n')\n",
        ""
      ],
      "metadata": {
        "id": "LCgVuOCoVUjt"
      },
      "execution_count": 37,
      "outputs": []
    },
    {
      "cell_type": "code",
      "source": [
        "tests=4\n",
        "for i in range(tests):\n",
        "    print(\"// AND //\")\n",
        "    run_perceptron(and_gate)\n",
        "\n",
        "    print(\"// OR //\")\n",
        "    run_perceptron(or_gate)\n",
        ""
      ],
      "metadata": {
        "colab": {
          "base_uri": "https://localhost:8080/"
        },
        "id": "08M0_DOsV0_T",
        "outputId": "81b8a8a6-5414-472a-94a8-182903b5fa20"
      },
      "execution_count": 38,
      "outputs": [
        {
          "output_type": "stream",
          "name": "stdout",
          "text": [
            "// AND //\n",
            "inputs: (1, 1)\n",
            "weighted sum: 0.15178843789625418\n",
            "correct answer: 1\n",
            "perceptron guess: 1\n",
            "\n",
            "// OR //\n",
            "inputs: (-1, -1)\n",
            "weighted sum: -0.31195887654641447\n",
            "correct answer: -1\n",
            "perceptron guess: -1\n",
            "\n",
            "// AND //\n",
            "inputs: (1, 1)\n",
            "weighted sum: 0.11469794182887244\n",
            "correct answer: 1\n",
            "perceptron guess: 1\n",
            "\n",
            "// OR //\n",
            "inputs: (1, 1)\n",
            "weighted sum: 0.8621540257940006\n",
            "correct answer: 1\n",
            "perceptron guess: 1\n",
            "\n",
            "// AND //\n",
            "inputs: (1, -1)\n",
            "weighted sum: -0.5694051623166361\n",
            "correct answer: -1\n",
            "perceptron guess: -1\n",
            "\n",
            "// OR //\n",
            "inputs: (1, 1)\n",
            "weighted sum: 1.0523661302863763\n",
            "correct answer: 1\n",
            "perceptron guess: 1\n",
            "\n",
            "// AND //\n",
            "inputs: (-1, -1)\n",
            "weighted sum: -0.8502958953240215\n",
            "correct answer: -1\n",
            "perceptron guess: -1\n",
            "\n",
            "// OR //\n",
            "inputs: (1, -1)\n",
            "weighted sum: 0.33877934998402576\n",
            "correct answer: 1\n",
            "perceptron guess: 1\n",
            "\n"
          ]
        }
      ]
    }
  ]
}