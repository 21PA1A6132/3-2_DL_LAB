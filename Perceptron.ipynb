{
  "nbformat": 4,
  "nbformat_minor": 0,
  "metadata": {
    "colab": {
      "provenance": [],
      "authorship_tag": "ABX9TyN6uaQ7mGGNQ+clegxhEzk0",
      "include_colab_link": true
    },
    "kernelspec": {
      "name": "python3",
      "display_name": "Python 3"
    },
    "language_info": {
      "name": "python"
    }
  },
  "cells": [
    {
      "cell_type": "markdown",
      "metadata": {
        "id": "view-in-github",
        "colab_type": "text"
      },
      "source": [
        "<a href=\"https://colab.research.google.com/github/21PA1A6132/3-2_DL_LAB/blob/main/Perceptron.ipynb\" target=\"_parent\"><img src=\"https://colab.research.google.com/assets/colab-badge.svg\" alt=\"Open In Colab\"/></a>"
      ]
    },
    {
      "cell_type": "code",
      "execution_count": 17,
      "metadata": {
        "id": "WZmISvoxDcnJ",
        "colab": {
          "base_uri": "https://localhost:8080/"
        },
        "outputId": "7f07664d-d3c9-4874-d4e1-a8904ca70d32"
      },
      "outputs": [
        {
          "output_type": "stream",
          "name": "stdout",
          "text": [
            "1\n"
          ]
        }
      ],
      "source": [
        "import numpy as np\n",
        "X=np.array([0.5,0.6,0.9])\n",
        "W=np.array([0.2,0.3,0.1])\n",
        "b=0.5\n",
        "def stepfunction(t):\n",
        "  if t>=0:\n",
        "    return 1\n",
        "  return 0\n",
        "\n",
        "def prediction(X,W,b=0):\n",
        "  return stepfunction((np.matmul(X,W)+b))\n",
        "\n",
        "print(prediction(X,W,b))"
      ]
    },
    {
      "cell_type": "code",
      "source": [],
      "metadata": {
        "id": "wpoEiHV3QAV_"
      },
      "execution_count": null,
      "outputs": []
    },
    {
      "cell_type": "code",
      "source": [
        "# OR GATE:WEIGHTS W1=1,W2=1,b=-0.5\n",
        "X=np.array([[1,0]])\n",
        "W = np.array([[1],[1]])\n",
        "b=-1\n",
        "print(prediction(X,W,b))"
      ],
      "metadata": {
        "colab": {
          "base_uri": "https://localhost:8080/"
        },
        "id": "sfENxtr5GEAw",
        "outputId": "4ab853f2-2038-4882-d91d-b201eff316f4"
      },
      "execution_count": 18,
      "outputs": [
        {
          "output_type": "stream",
          "name": "stdout",
          "text": [
            "1\n"
          ]
        }
      ]
    },
    {
      "cell_type": "code",
      "source": [
        "# AND GATEc WEIGHTS : W1=1,W2=1,b=-1.5\n",
        "X=np.array([[1,0]])\n",
        "W = np.array([[1],[1]])\n",
        "b=-1.5\n",
        "print(prediction(X,W,b))"
      ],
      "metadata": {
        "colab": {
          "base_uri": "https://localhost:8080/"
        },
        "id": "FpNtvqwNLNZr",
        "outputId": "89c2e7d8-aa0b-468f-d940-4a6adef339a6"
      },
      "execution_count": 19,
      "outputs": [
        {
          "output_type": "stream",
          "name": "stdout",
          "text": [
            "0\n"
          ]
        }
      ]
    },
    {
      "cell_type": "code",
      "source": [
        "# XOR GATE WEIGHTS : w1=,w2=-1,b=-1.5"
      ],
      "metadata": {
        "id": "ma-r6iU2Mbec"
      },
      "execution_count": null,
      "outputs": []
    }
  ]
}