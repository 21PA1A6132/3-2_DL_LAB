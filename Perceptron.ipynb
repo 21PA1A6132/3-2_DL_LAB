{
  "nbformat": 4,
  "nbformat_minor": 0,
  "metadata": {
    "colab": {
      "provenance": [],
      "authorship_tag": "ABX9TyNawo+EefU7/yQ8wVU0vjSU",
      "include_colab_link": true
    },
    "kernelspec": {
      "name": "python3",
      "display_name": "Python 3"
    },
    "language_info": {
      "name": "python"
    }
  },
  "cells": [
    {
      "cell_type": "markdown",
      "metadata": {
        "id": "view-in-github",
        "colab_type": "text"
      },
      "source": [
        "<a href=\"https://colab.research.google.com/github/21PA1A6132/3-2_DL_LAB/blob/main/Perceptron.ipynb\" target=\"_parent\"><img src=\"https://colab.research.google.com/assets/colab-badge.svg\" alt=\"Open In Colab\"/></a>"
      ]
    },
    {
      "cell_type": "code",
      "execution_count": null,
      "metadata": {
        "id": "WZmISvoxDcnJ"
      },
      "outputs": [],
      "source": [
        "import numpy as np\n",
        "def stepfunction(t):\n",
        "  if t>=0:\n",
        "    return 1\n",
        "  return 0\n",
        "\n",
        "def prediction(X,W,b=0):\n",
        "  return stepfunction((np.matmul(X,W)+b)[0])"
      ]
    },
    {
      "cell_type": "code",
      "source": [
        "X=np.array([[0,0]])\n",
        "W = np.array([[1],[1]])\n",
        "b=-1\n",
        "print(prediction(X,W,b))"
      ],
      "metadata": {
        "colab": {
          "base_uri": "https://localhost:8080/"
        },
        "id": "sfENxtr5GEAw",
        "outputId": "a0896ba9-f57e-4fdf-a34c-641c4ba0ac4b"
      },
      "execution_count": null,
      "outputs": [
        {
          "output_type": "stream",
          "name": "stdout",
          "text": [
            "0\n"
          ]
        }
      ]
    }
  ]
}